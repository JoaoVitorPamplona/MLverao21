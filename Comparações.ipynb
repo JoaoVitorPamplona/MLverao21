{
 "cells": [
  {
   "cell_type": "markdown",
   "id": "valuable-montreal",
   "metadata": {},
   "source": [
    "# Criando a inteligência"
   ]
  },
  {
   "cell_type": "code",
   "execution_count": 1,
   "id": "minor-allen",
   "metadata": {},
   "outputs": [],
   "source": [
    "import pandas as pd\n",
    "import numpy as np \n",
    "from numpy.random import randint\n",
    "from sklearn.model_selection import train_test_split\n",
    "from sklearn.preprocessing import MinMaxScaler\n",
    "from sklearn.svm import LinearSVC\n",
    "from sklearn.multiclass import OneVsRestClassifier\n",
    "from sklearn.metrics import accuracy_score\n"
   ]
  },
  {
   "cell_type": "markdown",
   "id": "ready-reply",
   "metadata": {},
   "source": [
    "# Criando as comparações"
   ]
  },
  {
   "cell_type": "code",
   "execution_count": 2,
   "id": "respected-raleigh",
   "metadata": {},
   "outputs": [],
   "source": [
    "comparações = {\n",
    "\t\t\t\"modelo\": {\n",
    "\t\t2013: [],\n",
    "\t\t2014: [],\n",
    "\t\t2015: [],\n",
    "\t\t2016: [],\n",
    "\t\t2017: [],\n",
    "\t\t2018: [],\n",
    "\t\t2019: [],\n",
    "\t\t2020: []\n",
    "\t\t},\n",
    "\t\t\t\"aleatório\": {\n",
    "\t\t2013: [],\n",
    "\t\t2014: [],\n",
    "\t\t2015: [],\n",
    "\t\t2016: [],\n",
    "\t\t2017: [],\n",
    "\t\t2018: [],\n",
    "\t\t2019: [],\n",
    "\t\t2020: []\n",
    "\t\t}\n",
    "}"
   ]
  },
  {
   "cell_type": "code",
   "execution_count": 3,
   "id": "personalized-destination",
   "metadata": {},
   "outputs": [],
   "source": [
    "preditores = {}"
   ]
  },
  {
   "cell_type": "markdown",
   "id": "split-episode",
   "metadata": {},
   "source": [
    "# Agora, vamos rodar os testes\n",
    "\n",
    "Para cada ano, iremos gerar 30 sementes aleatórias e criar classificadores. \n",
    "\n",
    "Em seguida, vamos comparar as acurácias do modelo com um classificador aleatório."
   ]
  },
  {
   "cell_type": "code",
   "execution_count": 4,
   "id": "criminal-karen",
   "metadata": {},
   "outputs": [],
   "source": [
    "for ano in range(2013,2021):\n",
    "    for seed in range(100):\n",
    "        df = pd.read_csv(f\"datasets/{ano}.csv\")\n",
    "        X, y = df.iloc[:,2:-1], df.iloc[:,-1]\n",
    "        X_train, X_test, y_train, y_test = train_test_split(X, y, test_size = 0.2, random_state = seed) \n",
    "\n",
    "        scaler = MinMaxScaler()\n",
    "        X_train = scaler.fit_transform(X_train)\n",
    "        X_test = scaler.transform(X_test)\n",
    "\n",
    "\n",
    "\n",
    "        classificador = LinearSVC(dual=False, max_iter=3000)\n",
    "        ova = OneVsRestClassifier(classificador)\n",
    "\n",
    "        ova.fit(X_train, y_train)\n",
    "        \n",
    "        preditores[ano] = ova\n",
    "        \n",
    "        \n",
    "        acc_modelo = accuracy_score(y_test, ova.predict(X_test))\n",
    "        acc_rand = accuracy_score(y_test, randint(-1,2, size=y_test.shape))\n",
    "        comparações[\"modelo\"][ano].append(acc_modelo)\n",
    "        comparações[\"aleatório\"][ano].append(acc_rand)"
   ]
  },
  {
   "cell_type": "code",
   "execution_count": 5,
   "id": "leading-tribune",
   "metadata": {},
   "outputs": [],
   "source": [
    "resultados = pd.DataFrame(comparações, index=range(2013, 2021)) \\\n",
    "    .apply(lambda x: [np.mean(x[\"modelo\"]), np.std(x[\"modelo\"]), \n",
    "                      np.mean(x[\"aleatório\"]), np.std(x[\"aleatório\"])], \n",
    "           axis=1, result_type=\"expand\")\n",
    "\n",
    "resultados.columns = [\"média modelo\", \"desvio modelo\", \"média aleatório\", \"desvio aleatório\"]"
   ]
  },
  {
   "cell_type": "code",
   "execution_count": 6,
   "id": "conventional-shower",
   "metadata": {},
   "outputs": [
    {
     "output_type": "execute_result",
     "data": {
      "text/plain": [
       "      média modelo  desvio modelo  média aleatório  desvio aleatório\n",
       "2013      0.477368       0.053060         0.327237          0.055001\n",
       "2014      0.499211       0.050167         0.332237          0.059440\n",
       "2015      0.516447       0.045746         0.340263          0.056778\n",
       "2016      0.537763       0.056858         0.329211          0.056532\n",
       "2017      0.450789       0.051690         0.333289          0.055296\n",
       "2018      0.540263       0.050579         0.340658          0.057139\n",
       "2019      0.506579       0.051282         0.328289          0.045708\n",
       "2020      0.427313       0.044158         0.328507          0.053752"
      ],
      "text/html": "<div>\n<style scoped>\n    .dataframe tbody tr th:only-of-type {\n        vertical-align: middle;\n    }\n\n    .dataframe tbody tr th {\n        vertical-align: top;\n    }\n\n    .dataframe thead th {\n        text-align: right;\n    }\n</style>\n<table border=\"1\" class=\"dataframe\">\n  <thead>\n    <tr style=\"text-align: right;\">\n      <th></th>\n      <th>média modelo</th>\n      <th>desvio modelo</th>\n      <th>média aleatório</th>\n      <th>desvio aleatório</th>\n    </tr>\n  </thead>\n  <tbody>\n    <tr>\n      <th>2013</th>\n      <td>0.477368</td>\n      <td>0.053060</td>\n      <td>0.327237</td>\n      <td>0.055001</td>\n    </tr>\n    <tr>\n      <th>2014</th>\n      <td>0.499211</td>\n      <td>0.050167</td>\n      <td>0.332237</td>\n      <td>0.059440</td>\n    </tr>\n    <tr>\n      <th>2015</th>\n      <td>0.516447</td>\n      <td>0.045746</td>\n      <td>0.340263</td>\n      <td>0.056778</td>\n    </tr>\n    <tr>\n      <th>2016</th>\n      <td>0.537763</td>\n      <td>0.056858</td>\n      <td>0.329211</td>\n      <td>0.056532</td>\n    </tr>\n    <tr>\n      <th>2017</th>\n      <td>0.450789</td>\n      <td>0.051690</td>\n      <td>0.333289</td>\n      <td>0.055296</td>\n    </tr>\n    <tr>\n      <th>2018</th>\n      <td>0.540263</td>\n      <td>0.050579</td>\n      <td>0.340658</td>\n      <td>0.057139</td>\n    </tr>\n    <tr>\n      <th>2019</th>\n      <td>0.506579</td>\n      <td>0.051282</td>\n      <td>0.328289</td>\n      <td>0.045708</td>\n    </tr>\n    <tr>\n      <th>2020</th>\n      <td>0.427313</td>\n      <td>0.044158</td>\n      <td>0.328507</td>\n      <td>0.053752</td>\n    </tr>\n  </tbody>\n</table>\n</div>"
     },
     "metadata": {},
     "execution_count": 6
    }
   ],
   "source": [
    "resultados"
   ]
  },
  {
   "source": [
    "# Descobrindo as melhores sementes"
   ],
   "cell_type": "markdown",
   "metadata": {}
  },
  {
   "cell_type": "code",
   "execution_count": 7,
   "id": "literary-relationship",
   "metadata": {},
   "outputs": [
    {
     "output_type": "stream",
     "name": "stdout",
     "text": [
      "ano\tsemente\tacurácia\n2013\t74\t0.6052631578947368\n2014\t58\t0.618421052631579\n2015\t94\t0.631578947368421\n2016\t18\t0.6578947368421053\n2017\t66\t0.5921052631578947\n2018\t1\t0.6842105263157895\n2019\t42\t0.6447368421052632\n2020\t75\t0.582089552238806\n"
     ]
    }
   ],
   "source": [
    "best_seed = {}\n",
    "\n",
    "print(\"ano\", \"semente\", \"acurácia\", sep=\"\\t\")\n",
    "for ano in range(2013,2021):\n",
    "    resultado = comparações[\"modelo\"][ano]\n",
    "    semente = np.argmax(resultado)\n",
    "    print(ano, semente, np.max(resultado), sep=\"\\t\")\n",
    "    best_seed.update({ano: semente })"
   ]
  },
  {
   "cell_type": "code",
   "execution_count": 8,
   "id": "chicken-twelve",
   "metadata": {},
   "outputs": [
    {
     "output_type": "execute_result",
     "data": {
      "text/plain": [
       "{2013: 74, 2014: 58, 2015: 94, 2016: 18, 2017: 66, 2018: 1, 2019: 42, 2020: 75}"
      ]
     },
     "metadata": {},
     "execution_count": 8
    }
   ],
   "source": [
    "best_seed"
   ]
  },
  {
   "cell_type": "code",
   "execution_count": null,
   "metadata": {},
   "outputs": [],
   "source": []
  }
 ],
 "metadata": {
  "kernelspec": {
   "display_name": "Python 3",
   "language": "python",
   "name": "python3"
  },
  "language_info": {
   "codemirror_mode": {
    "name": "ipython",
    "version": 3
   },
   "file_extension": ".py",
   "mimetype": "text/x-python",
   "name": "python",
   "nbconvert_exporter": "python",
   "pygments_lexer": "ipython3",
   "version": "3.8.5-final"
  }
 },
 "nbformat": 4,
 "nbformat_minor": 5
}