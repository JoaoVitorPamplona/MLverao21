{
 "cells": [
  {
   "cell_type": "markdown",
   "id": "duplicate-burden",
   "metadata": {},
   "source": [
    "# Criando o _dataset_"
   ]
  },
  {
   "cell_type": "code",
   "execution_count": 1,
   "id": "cooked-colombia",
   "metadata": {},
   "outputs": [],
   "source": [
    "import pandas as pd\n",
    "from datetime import date"
   ]
  },
  {
   "cell_type": "markdown",
   "id": "alternate-sugar",
   "metadata": {},
   "source": [
    "## Carregando do disco"
   ]
  },
  {
   "cell_type": "code",
   "execution_count": 2,
   "id": "regular-reservation",
   "metadata": {},
   "outputs": [],
   "source": [
    "df = pd.read_csv(\"Brasileirao_Dataset/campeonato-brasileiro-full.csv\")"
   ]
  },
  {
   "cell_type": "markdown",
   "id": "pretty-fountain",
   "metadata": {},
   "source": [
    "## Renomeando colunas"
   ]
  },
  {
   "cell_type": "code",
   "execution_count": 3,
   "id": "played-truth",
   "metadata": {},
   "outputs": [],
   "source": [
    "df.columns = ['Horário', 'Dia', 'Data', 'Mandante', 'Visitante', 'Vencedor', 'Rodada',\n",
    "       'Arena', 'Gols_Mandante', 'Gols_Visitante', 'Estado_Mandante',\n",
    "       'Estado_Visitante', 'Estado_Vencedor']"
   ]
  },
  {
   "cell_type": "markdown",
   "id": "signed-prompt",
   "metadata": {},
   "source": [
    "## Criando nova coluna"
   ]
  },
  {
   "cell_type": "code",
   "execution_count": 4,
   "id": "forced-title",
   "metadata": {},
   "outputs": [],
   "source": [
    "df[\"Ano\"] = df.Data.apply(lambda x: date.fromisoformat(x).year)"
   ]
  },
  {
   "cell_type": "markdown",
   "id": "miniature-failing",
   "metadata": {},
   "source": [
    "## Excluindo colunas desnecessárias"
   ]
  },
  {
   "cell_type": "code",
   "execution_count": 5,
   "id": "piano-sacrifice",
   "metadata": {},
   "outputs": [],
   "source": [
    "df.drop(labels=['Horário', 'Dia', 'Arena', 'Estado_Mandante',\n",
    "       'Estado_Visitante', 'Estado_Vencedor'], axis=\"columns\", inplace=True)"
   ]
  },
  {
   "cell_type": "code",
   "execution_count": 6,
   "id": "coordinate-aside",
   "metadata": {},
   "outputs": [],
   "source": [
    "df_filtrado = df.query(\"Ano > 2012\")"
   ]
  },
  {
   "cell_type": "code",
   "execution_count": 7,
   "id": "minus-relations",
   "metadata": {},
   "outputs": [],
   "source": [
    "dataset = df_filtrado[['Ano', 'Mandante', 'Visitante','Gols_Mandante', 'Gols_Visitante' ]].copy()"
   ]
  },
  {
   "cell_type": "markdown",
   "id": "genuine-athletics",
   "metadata": {},
   "source": [
    "## Inserindo a coluna Rodada"
   ]
  },
  {
   "cell_type": "code",
   "execution_count": 8,
   "id": "conditional-issue",
   "metadata": {},
   "outputs": [],
   "source": [
    "dataset.insert(1, \"Rodada\", df_filtrado.Rodada.apply(lambda x: int(x.split(\" \")[0][:-1])))"
   ]
  },
  {
   "cell_type": "markdown",
   "id": "worthy-journalist",
   "metadata": {},
   "source": [
    "## Normalizando os nomes dos times"
   ]
  },
  {
   "cell_type": "code",
   "execution_count": 9,
   "id": "revised-italic",
   "metadata": {},
   "outputs": [],
   "source": [
    "dataset[['Mandante','Visitante']] = dataset[['Mandante','Visitante']].applymap(lambda x: x.capitalize())"
   ]
  },
  {
   "cell_type": "code",
   "execution_count": 10,
   "id": "integral-clinic",
   "metadata": {},
   "outputs": [],
   "source": [
    "dataset[\"Saldo_Mandante\"] = dataset.Gols_Mandante - dataset.Gols_Visitante"
   ]
  },
  {
   "cell_type": "markdown",
   "id": "hearing-pledge",
   "metadata": {},
   "source": [
    "## Separando em classes"
   ]
  },
  {
   "cell_type": "code",
   "execution_count": 11,
   "id": "artistic-recovery",
   "metadata": {},
   "outputs": [],
   "source": [
    "classe1, classe2, classe3 =  (dataset.query(\"Gols_Mandante {} Gols_Visitante\".format(op)).index for op in (\">\", \"==\", \"<\")) "
   ]
  },
  {
   "cell_type": "code",
   "execution_count": 12,
   "id": "handmade-preview",
   "metadata": {},
   "outputs": [],
   "source": [
    "dataset[\"Classe\"] = 0 "
   ]
  },
  {
   "cell_type": "code",
   "execution_count": 13,
   "id": "animal-albania",
   "metadata": {},
   "outputs": [],
   "source": [
    "dataset.loc[classe1, \"Classe\"] = 1\n",
    "dataset.loc[classe3, \"Classe\"] = -1"
   ]
  },
  {
   "cell_type": "code",
   "execution_count": 14,
   "id": "crazy-transmission",
   "metadata": {},
   "outputs": [
    {
     "data": {
      "text/html": [
       "<div>\n",
       "<style scoped>\n",
       "    .dataframe tbody tr th:only-of-type {\n",
       "        vertical-align: middle;\n",
       "    }\n",
       "\n",
       "    .dataframe tbody tr th {\n",
       "        vertical-align: top;\n",
       "    }\n",
       "\n",
       "    .dataframe thead th {\n",
       "        text-align: right;\n",
       "    }\n",
       "</style>\n",
       "<table border=\"1\" class=\"dataframe\">\n",
       "  <thead>\n",
       "    <tr style=\"text-align: right;\">\n",
       "      <th></th>\n",
       "      <th>Rodada</th>\n",
       "      <th>Saldo_Mandante</th>\n",
       "      <th>Classe</th>\n",
       "    </tr>\n",
       "  </thead>\n",
       "  <tbody>\n",
       "    <tr>\n",
       "      <th>5282</th>\n",
       "      <td>1</td>\n",
       "      <td>0</td>\n",
       "      <td>0</td>\n",
       "    </tr>\n",
       "    <tr>\n",
       "      <th>5299</th>\n",
       "      <td>3</td>\n",
       "      <td>0</td>\n",
       "      <td>0</td>\n",
       "    </tr>\n",
       "    <tr>\n",
       "      <th>5328</th>\n",
       "      <td>5</td>\n",
       "      <td>1</td>\n",
       "      <td>1</td>\n",
       "    </tr>\n",
       "    <tr>\n",
       "      <th>5342</th>\n",
       "      <td>7</td>\n",
       "      <td>3</td>\n",
       "      <td>1</td>\n",
       "    </tr>\n",
       "    <tr>\n",
       "      <th>5355</th>\n",
       "      <td>8</td>\n",
       "      <td>0</td>\n",
       "      <td>0</td>\n",
       "    </tr>\n",
       "    <tr>\n",
       "      <th>...</th>\n",
       "      <td>...</td>\n",
       "      <td>...</td>\n",
       "      <td>...</td>\n",
       "    </tr>\n",
       "    <tr>\n",
       "      <th>7858</th>\n",
       "      <td>30</td>\n",
       "      <td>3</td>\n",
       "      <td>1</td>\n",
       "    </tr>\n",
       "    <tr>\n",
       "      <th>7881</th>\n",
       "      <td>33</td>\n",
       "      <td>0</td>\n",
       "      <td>0</td>\n",
       "    </tr>\n",
       "    <tr>\n",
       "      <th>7890</th>\n",
       "      <td>34</td>\n",
       "      <td>3</td>\n",
       "      <td>1</td>\n",
       "    </tr>\n",
       "    <tr>\n",
       "      <th>7917</th>\n",
       "      <td>36</td>\n",
       "      <td>2</td>\n",
       "      <td>1</td>\n",
       "    </tr>\n",
       "    <tr>\n",
       "      <th>7937</th>\n",
       "      <td>38</td>\n",
       "      <td>4</td>\n",
       "      <td>1</td>\n",
       "    </tr>\n",
       "  </tbody>\n",
       "</table>\n",
       "<p>133 rows × 3 columns</p>\n",
       "</div>"
      ],
      "text/plain": [
       "      Rodada  Saldo_Mandante  Classe\n",
       "5282       1               0       0\n",
       "5299       3               0       0\n",
       "5328       5               1       1\n",
       "5342       7               3       1\n",
       "5355       8               0       0\n",
       "...      ...             ...     ...\n",
       "7858      30               3       1\n",
       "7881      33               0       0\n",
       "7890      34               3       1\n",
       "7917      36               2       1\n",
       "7937      38               4       1\n",
       "\n",
       "[133 rows x 3 columns]"
      ]
     },
     "execution_count": 14,
     "metadata": {},
     "output_type": "execute_result"
    }
   ],
   "source": [
    "dataset.query(\"Mandante == 'Santos'\")[[\"Rodada\",\"Saldo_Mandante\", \"Classe\"]]"
   ]
  },
  {
   "cell_type": "markdown",
   "id": "dedicated-expense",
   "metadata": {},
   "source": [
    "## Funções para calcular saldos de gol e pontos"
   ]
  },
  {
   "cell_type": "code",
   "execution_count": 15,
   "id": "declared-jungle",
   "metadata": {},
   "outputs": [],
   "source": [
    "def saldo_gols(time, ano, rodada):\n",
    "    main_query =  f\" and Ano == {ano} and Rodada < {rodada}\"\n",
    "    positivo = dataset.query(f\"Mandante == '{time}'\" + main_query ).Saldo_Mandante\n",
    "    negativo = dataset.query(f\"Visitante == '{time}'\" + main_query ).Saldo_Mandante\n",
    "    return positivo.sum() - negativo.sum()"
   ]
  },
  {
   "cell_type": "code",
   "execution_count": 16,
   "id": "chubby-argentina",
   "metadata": {},
   "outputs": [],
   "source": [
    "def pontuacao(time, ano, rodada):\n",
    "    main_query =  f\" and Ano == {ano} and Rodada < {rodada}\"\n",
    "    vitorias_casa = dataset.query(f\"Mandante == '{time}' and Classe == 1\" + main_query).Ano\n",
    "    vitorias_fora = dataset.query(f\"Visitante == '{time}' and Classe == -1\" + main_query).Ano\n",
    "    empates  = dataset.query(f\"(Mandante == '{time}' or Visitante == '{time}') and Classe == 0\" + main_query).Ano\n",
    "    return 3*vitorias_casa.count() + 3*vitorias_fora.count() + empates.count()"
   ]
  },
  {
   "cell_type": "markdown",
   "id": "bridal-photography",
   "metadata": {},
   "source": [
    "# Ranking CBF"
   ]
  },
  {
   "cell_type": "code",
   "execution_count": 17,
   "id": "living-million",
   "metadata": {},
   "outputs": [],
   "source": [
    "ranking = pd.read_csv(\"ranking/RankingCBF.csv\")\n",
    "ranking.set_index(\"Time\", inplace=True)"
   ]
  },
  {
   "cell_type": "code",
   "execution_count": 18,
   "id": "graphic-remedy",
   "metadata": {},
   "outputs": [],
   "source": [
    "def get_ranking(time, ano):\n",
    "    ano_str = str(ano)\n",
    "    return ranking.loc[time, ano_str]"
   ]
  },
  {
   "cell_type": "markdown",
   "id": "asian-yacht",
   "metadata": {},
   "source": [
    "# Criando e Exportanto dados"
   ]
  },
  {
   "cell_type": "code",
   "execution_count": 19,
   "id": "hired-runner",
   "metadata": {},
   "outputs": [],
   "source": [
    "for ano in range(2013, 2020):\n",
    "    subset = dataset.query(f\"Ano == {ano} \")[[\"Mandante\", \"Visitante\", \"Rodada\"]]\n",
    "    classe = dataset.query(f\"Ano == {ano} \")[[\"Classe\"]]\n",
    "    \n",
    "    ranking_mandante = subset.Mandante.apply(lambda x: get_ranking(x, ano))\n",
    "    pontos_mandante = subset.apply(lambda x: pontuacao(x[\"Mandante\"], ano, x[\"Rodada\"]), axis=1)\n",
    "    saldo_mandante = subset.apply(lambda x: saldo_gols(x[\"Mandante\"], ano, x[\"Rodada\"]), axis=1)\n",
    "    \n",
    "    ranking_visitante = subset.Visitante.apply(lambda x: get_ranking(x, ano))\n",
    "    pontos_visitante = subset.apply(lambda x: pontuacao(x[\"Visitante\"], ano, x[\"Rodada\"]), axis=1)\n",
    "    saldo_visitante = subset.apply(lambda x: saldo_gols(x[\"Visitante\"], ano, x[\"Rodada\"]), axis=1)\n",
    "    \n",
    "    calculados = pd.DataFrame({\n",
    "        \"ranking_mandante\": ranking_mandante,\n",
    "        \"pontos_mandante\": pontos_mandante,\n",
    "        \"saldo_mandante\": saldo_mandante,\n",
    "        \"ranking_visitante\": ranking_visitante,\n",
    "        \"pontos_visitante\": pontos_visitante,\n",
    "        \"saldo_visitante\": saldo_visitante\n",
    "    })\n",
    "    \n",
    "    salvo = pd.concat([subset, calculados, classe], axis=1)\n",
    "    salvo.to_csv(f\"processados/{ano}.csv\", index=False)\n",
    "    \n"
   ]
  }
 ],
 "metadata": {
  "kernelspec": {
   "display_name": "Python 3",
   "language": "python",
   "name": "python3"
  },
  "language_info": {
   "codemirror_mode": {
    "name": "ipython",
    "version": 3
   },
   "file_extension": ".py",
   "mimetype": "text/x-python",
   "name": "python",
   "nbconvert_exporter": "python",
   "pygments_lexer": "ipython3",
   "version": "3.8.5"
  }
 },
 "nbformat": 4,
 "nbformat_minor": 5
}
