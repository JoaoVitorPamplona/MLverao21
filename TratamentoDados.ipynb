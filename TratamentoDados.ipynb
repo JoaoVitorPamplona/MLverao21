{
 "cells": [
  {
   "cell_type": "markdown",
   "id": "pointed-latex",
   "metadata": {},
   "source": [
    "# Criando o _dataset_"
   ]
  },
  {
   "cell_type": "code",
   "execution_count": 1,
   "id": "forbidden-thirty",
   "metadata": {},
   "outputs": [],
   "source": [
    "import pandas as pd\n",
    "from datetime import date"
   ]
  },
  {
   "cell_type": "markdown",
   "id": "elegant-phenomenon",
   "metadata": {},
   "source": [
    "## Carregando dados do repositório "
   ]
  },
  {
   "cell_type": "code",
   "execution_count": 2,
   "id": "corresponding-carroll",
   "metadata": {},
   "outputs": [],
   "source": [
    "url = 'https://raw.githubusercontent.com/adaoduque/Brasileirao_Dataset/master/campeonato-brasileiro-full.csv'\n",
    "\n",
    "df = pd.read_csv(url)"
   ]
  },
  {
   "cell_type": "markdown",
   "id": "qualified-diploma",
   "metadata": {},
   "source": [
    "## Renomeando colunas"
   ]
  },
  {
   "cell_type": "code",
   "execution_count": 3,
   "id": "announced-chapel",
   "metadata": {},
   "outputs": [],
   "source": [
    "df.columns = ['Horário', 'Dia', 'Data', 'Mandante', 'Visitante', 'Vencedor', 'Rodada',\n",
    "       'Arena', 'Gols_Mandante', 'Gols_Visitante', 'Estado_Mandante',\n",
    "       'Estado_Visitante', 'Estado_Vencedor']"
   ]
  },
  {
   "cell_type": "markdown",
   "id": "handed-punishment",
   "metadata": {},
   "source": [
    "## Criando nova coluna"
   ]
  },
  {
   "cell_type": "code",
   "execution_count": 4,
   "id": "collected-navigator",
   "metadata": {},
   "outputs": [],
   "source": [
    "df[\"Ano\"] = df.Data.apply(lambda x: date.fromisoformat(x).year)"
   ]
  },
  {
   "cell_type": "markdown",
   "id": "promotional-adams",
   "metadata": {},
   "source": [
    "## Excluindo colunas desnecessárias"
   ]
  },
  {
   "cell_type": "code",
   "execution_count": 5,
   "id": "agricultural-attitude",
   "metadata": {},
   "outputs": [],
   "source": [
    "df.drop(labels=['Horário', 'Dia', 'Arena', 'Estado_Mandante',\n",
    "       'Estado_Visitante', 'Estado_Vencedor'], axis=\"columns\", inplace=True)"
   ]
  },
  {
   "cell_type": "markdown",
   "id": "floppy-foundation",
   "metadata": {},
   "source": [
    "# Filtrando os dados\n",
    "\n",
    "Queremos apenas os campeonatos a partir de 2013, pois foi quando o novo ranking da CBF surgiu."
   ]
  },
  {
   "cell_type": "code",
   "execution_count": 6,
   "id": "underlying-advocacy",
   "metadata": {},
   "outputs": [],
   "source": [
    "df_filtrado = df.query(\"Ano > 2012\")"
   ]
  },
  {
   "cell_type": "code",
   "execution_count": 7,
   "id": "rotary-truth",
   "metadata": {},
   "outputs": [],
   "source": [
    "dataset = df_filtrado[['Ano', 'Mandante', 'Visitante','Gols_Mandante', 'Gols_Visitante' ]].copy()"
   ]
  },
  {
   "cell_type": "markdown",
   "id": "absent-arizona",
   "metadata": {},
   "source": [
    "## Inserindo a coluna Rodada"
   ]
  },
  {
   "cell_type": "code",
   "execution_count": 8,
   "id": "incorporated-florida",
   "metadata": {},
   "outputs": [],
   "source": [
    "dataset.insert(1, \"Rodada\", df_filtrado.Rodada.apply(lambda x: int(x.split(\" \")[0][:-1])))"
   ]
  },
  {
   "cell_type": "markdown",
   "id": "ecological-cisco",
   "metadata": {},
   "source": [
    "## Normalizando os nomes dos times"
   ]
  },
  {
   "cell_type": "code",
   "execution_count": 9,
   "id": "removed-contrast",
   "metadata": {},
   "outputs": [],
   "source": [
    "dataset[['Mandante','Visitante']] = dataset[['Mandante','Visitante']].applymap(lambda x: x.capitalize())"
   ]
  },
  {
   "cell_type": "markdown",
   "id": "apparent-constitutional",
   "metadata": {},
   "source": [
    "# Calculando o saldo do mandante"
   ]
  },
  {
   "cell_type": "code",
   "execution_count": 10,
   "id": "stunning-generic",
   "metadata": {},
   "outputs": [],
   "source": [
    "dataset[\"Saldo_Mandante\"] = dataset.Gols_Mandante - dataset.Gols_Visitante"
   ]
  },
  {
   "cell_type": "markdown",
   "id": "international-pharmaceutical",
   "metadata": {},
   "source": [
    "## Separando em classes\n",
    "\n",
    "- Classe  1: vitória do mandante\n",
    "- Classe  0: empate\n",
    "- Classe -1: vitória do visitante"
   ]
  },
  {
   "cell_type": "code",
   "execution_count": 11,
   "id": "favorite-classification",
   "metadata": {},
   "outputs": [],
   "source": [
    "classe1, classe2, classe3 =  (dataset.query(\"Gols_Mandante {} Gols_Visitante\".format(op)).index for op in (\">\", \"==\", \"<\")) "
   ]
  },
  {
   "cell_type": "code",
   "execution_count": 12,
   "id": "persistent-lawsuit",
   "metadata": {},
   "outputs": [],
   "source": [
    "dataset[\"Classe\"] = 0 "
   ]
  },
  {
   "cell_type": "code",
   "execution_count": 13,
   "id": "copyrighted-semiconductor",
   "metadata": {},
   "outputs": [],
   "source": [
    "dataset.loc[classe1, \"Classe\"] = 1\n",
    "dataset.loc[classe3, \"Classe\"] = -1"
   ]
  },
  {
   "cell_type": "markdown",
   "id": "intended-pavilion",
   "metadata": {},
   "source": [
    "## Funções para calcular saldos de gol e pontos"
   ]
  },
  {
   "cell_type": "code",
   "execution_count": 15,
   "id": "numerical-partnership",
   "metadata": {},
   "outputs": [],
   "source": [
    "def saldo_gols(time, ano, rodada):\n",
    "    main_query =  f\" and Ano == {ano} and Rodada < {rodada}\"\n",
    "    positivo = dataset.query(f\"Mandante == '{time}'\" + main_query ).Saldo_Mandante\n",
    "    negativo = dataset.query(f\"Visitante == '{time}'\" + main_query ).Saldo_Mandante\n",
    "    return positivo.sum() - negativo.sum()"
   ]
  },
  {
   "cell_type": "code",
   "execution_count": 16,
   "id": "entitled-hebrew",
   "metadata": {},
   "outputs": [],
   "source": [
    "def pontuacao(time, ano, rodada):\n",
    "    main_query =  f\" and Ano == {ano} and Rodada < {rodada}\"\n",
    "    vitorias_casa = dataset.query(f\"Mandante == '{time}' and Classe == 1\" + main_query).Ano\n",
    "    vitorias_fora = dataset.query(f\"Visitante == '{time}' and Classe == -1\" + main_query).Ano\n",
    "    empates  = dataset.query(f\"(Mandante == '{time}' or Visitante == '{time}') and Classe == 0\" + main_query).Ano\n",
    "    return 3*vitorias_casa.count() + 3*vitorias_fora.count() + empates.count()"
   ]
  },
  {
   "cell_type": "markdown",
   "id": "restricted-horizontal",
   "metadata": {},
   "source": [
    "# Ranking CBF"
   ]
  },
  {
   "cell_type": "code",
   "execution_count": 17,
   "id": "acute-formula",
   "metadata": {},
   "outputs": [],
   "source": [
    "ranking = pd.read_csv(\"datasets/RankingCBF.csv\")\n",
    "ranking.set_index(\"Time\", inplace=True)"
   ]
  },
  {
   "cell_type": "code",
   "execution_count": 18,
   "id": "encouraging-medium",
   "metadata": {},
   "outputs": [],
   "source": [
    "def get_ranking(time, ano):\n",
    "    ano_str = str(ano)\n",
    "    return ranking.loc[time, ano_str]"
   ]
  },
  {
   "cell_type": "markdown",
   "id": "royal-celtic",
   "metadata": {},
   "source": [
    "# Criando e Exportanto dados"
   ]
  },
  {
   "cell_type": "code",
   "execution_count": 19,
   "id": "missing-belize",
   "metadata": {},
   "outputs": [],
   "source": [
    "for ano in range(2013, 2020):\n",
    "    subset = dataset.query(f\"Ano == {ano} \")[[\"Mandante\", \"Visitante\", \"Rodada\"]]\n",
    "    classe = dataset.query(f\"Ano == {ano} \")[[\"Classe\"]]\n",
    "    \n",
    "    ranking_mandante = subset.Mandante.apply(lambda x: get_ranking(x, ano))\n",
    "    pontos_mandante = subset.apply(lambda x: pontuacao(x[\"Mandante\"], ano, x[\"Rodada\"]), axis=1)\n",
    "    saldo_mandante = subset.apply(lambda x: saldo_gols(x[\"Mandante\"], ano, x[\"Rodada\"]), axis=1)\n",
    "    \n",
    "    ranking_visitante = subset.Visitante.apply(lambda x: get_ranking(x, ano))\n",
    "    pontos_visitante = subset.apply(lambda x: pontuacao(x[\"Visitante\"], ano, x[\"Rodada\"]), axis=1)\n",
    "    saldo_visitante = subset.apply(lambda x: saldo_gols(x[\"Visitante\"], ano, x[\"Rodada\"]), axis=1)\n",
    "    \n",
    "    calculados = pd.DataFrame({\n",
    "        \"ranking_mandante\": ranking_mandante,\n",
    "        \"pontos_mandante\": pontos_mandante,\n",
    "        \"saldo_mandante\": saldo_mandante,\n",
    "        \"ranking_visitante\": ranking_visitante,\n",
    "        \"pontos_visitante\": pontos_visitante,\n",
    "        \"saldo_visitante\": saldo_visitante\n",
    "    })\n",
    "    \n",
    "    salvo = pd.concat([subset, calculados, classe], axis=1)\n",
    "    salvo.to_csv(f\"datasets/{ano}.csv\", index=False)"
   ]
  }
 ],
 "metadata": {
  "kernelspec": {
   "display_name": "Python 3",
   "language": "python",
   "name": "python3"
  },
  "language_info": {
   "codemirror_mode": {
    "name": "ipython",
    "version": 3
   },
   "file_extension": ".py",
   "mimetype": "text/x-python",
   "name": "python",
   "nbconvert_exporter": "python",
   "pygments_lexer": "ipython3",
   "version": "3.8.5"
  }
 },
 "nbformat": 4,
 "nbformat_minor": 5
}
