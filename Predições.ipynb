{
 "cells": [
  {
   "cell_type": "code",
   "execution_count": 1,
   "id": "detailed-format",
   "metadata": {},
   "outputs": [],
   "source": [
    "import pandas as pd\n",
    "import numpy as np \n",
    "from numpy.random import randint, random\n",
    "from sklearn.model_selection import train_test_split\n",
    "from sklearn.preprocessing import MinMaxScaler\n",
    "from sklearn.svm import LinearSVC\n",
    "from sklearn.multiclass import OneVsRestClassifier\n",
    "from sklearn.metrics import accuracy_score\n",
    "from collections import Counter\n"
   ]
  },
  {
   "cell_type": "code",
   "execution_count": 2,
   "id": "hourly-frequency",
   "metadata": {},
   "outputs": [],
   "source": [
    "best_seed = {2013: 74, 2014: 58, 2015: 94, 2016: 18, 2017: 66, 2018: 1, 2019: 42, 2020: 28}"
   ]
  },
  {
   "cell_type": "code",
   "execution_count": 3,
   "id": "applied-median",
   "metadata": {},
   "outputs": [],
   "source": [
    "preditores = {}"
   ]
  },
  {
   "cell_type": "code",
   "execution_count": 4,
   "id": "dependent-condition",
   "metadata": {},
   "outputs": [
    {
     "output_type": "stream",
     "name": "stdout",
     "text": [
      "Ano 2013\t acurácia 0.6052631578947368\nAno 2014\t acurácia 0.618421052631579\nAno 2015\t acurácia 0.631578947368421\nAno 2016\t acurácia 0.6578947368421053\nAno 2017\t acurácia 0.5921052631578947\nAno 2018\t acurácia 0.6842105263157895\nAno 2019\t acurácia 0.6447368421052632\nAno 2020\t acurácia 0.5757575757575758\n"
     ]
    }
   ],
   "source": [
    "for ano in range(2013,2021):\n",
    "    seed = best_seed[ano]\n",
    "    df = pd.read_csv(f\"datasets/{ano}.csv\")\n",
    "    X, y = df.iloc[:,2:-1], df.iloc[:,-1]\n",
    "    X_train, X_test, y_train, y_test = train_test_split(X, y, test_size = 0.2, random_state = seed) \n",
    "    \n",
    "    \n",
    "    scaler = MinMaxScaler()\n",
    "    X_train = scaler.fit_transform(X_train)\n",
    "    X_test = scaler.transform(X_test)\n",
    "\n",
    "\n",
    "\n",
    "    classificador = LinearSVC(dual=False, max_iter=3000)\n",
    "    ova = OneVsRestClassifier(classificador)\n",
    "\n",
    "    ova.fit(X_train, y_train)\n",
    "\n",
    "    preditores[ano] = ova\n",
    "    \n",
    "    acc = accuracy_score(y_test, ova.predict(X_test))\n",
    "    print(f\"Ano {ano}\\t acurácia {acc}\")\n",
    "    "
   ]
  },
  {
   "cell_type": "code",
   "execution_count": 5,
   "id": "dutch-innocent",
   "metadata": {},
   "outputs": [],
   "source": [
    "previsoes = pd.read_csv(\"datasets/previsoes.csv\")"
   ]
  },
  {
   "source": [
    "# Criando a tabela com os dados que temos agora"
   ],
   "cell_type": "markdown",
   "metadata": {}
  },
  {
   "cell_type": "code",
   "execution_count": 6,
   "metadata": {},
   "outputs": [],
   "source": [
    "tabela = []\n",
    "\n",
    "for time in df.Mandante.unique():\n",
    "    idx_mandante = df.query(f\"Mandante == '{time}'\").index.max()\n",
    "    idx_visitante = df.query(f\"Visitante == '{time}'\").index.max()\n",
    "    if idx_mandante > idx_visitante:\n",
    "        pontos, saldo = df.loc[idx_mandante, \"pontos_mandante\":\"saldo_mandante\"].values\n",
    "    else:\n",
    "        pontos, saldo = df.loc[idx_visitante, \"pontos_visitante\":\"saldo_visitante\"].values\n",
    "\n",
    "    tabela.append([time, pontos, saldo])\n",
    "\n"
   ]
  },
  {
   "cell_type": "code",
   "execution_count": 7,
   "metadata": {},
   "outputs": [],
   "source": [
    "df_tabela = pd.DataFrame(tabela, columns=[\"time\", \"pontos\", \"saldo\"]).set_index(\"time\")"
   ]
  },
  {
   "cell_type": "code",
   "execution_count": 8,
   "metadata": {},
   "outputs": [],
   "source": [
    "def get_diff_gols(classe):\n",
    "    \"\"\"Função que gera diferença de gols baseada em distribuições aleatórias empíricas\"\"\"\n",
    "    if classe == 0:\n",
    "        return 0\n",
    "    else:\n",
    "        x = random()\n",
    "        kerneis = {-1: np.array([  0.61797753, 0.88764045, 0.96629213, 1]), \n",
    "                        1: np.array([0.55319149, 0.82978723, 0.95035461, 0.9929078 , 1 ])}\n",
    "        distribuicao = kerneis[classe]\n",
    "        saldo = sum(distribuicao < x) + 1\n",
    "        return classe*saldo\n",
    "                "
   ]
  },
  {
   "cell_type": "code",
   "execution_count": 9,
   "metadata": {},
   "outputs": [],
   "source": [
    "def get_pontos_saldo(time):\n",
    "    return df_tabela.loc[time].values\n",
    "\n",
    "def update_tabela(mandante, visitante, classe):\n",
    "    \"\"\"Conforme o resultado da predição, atualiza os valores na tabela\"\"\"\n",
    "    diff_gols = get_diff_gols(classe) \n",
    "    pontuações = {-1: (0,3), 0: (1,1), 1: (3,0)}\n",
    "    pt_mand, pt_visi = pontuações[classe]\n",
    "    \n",
    "    df_tabela.loc[mandante] += np.array([pt_mand,diff_gols])\n",
    "    df_tabela.loc[visitante] += np.array([pt_visi,-diff_gols])"
   ]
  },
  {
   "cell_type": "code",
   "execution_count": 10,
   "metadata": {},
   "outputs": [],
   "source": [
    "def complete(row):\n",
    "    \"\"\"Retorna o array já escalado, pronto para ser inserido no preditor\"\"\"\n",
    "    mandante = row[0]\n",
    "    visitante = row[1] \n",
    "    saida = np.array([*row[2:4], *get_pontos_saldo(mandante), row[6], *get_pontos_saldo(visitante)])\n",
    "    return scaler.transform([saida])"
   ]
  },
  {
   "source": [
    "# Loop das previsões"
   ],
   "cell_type": "markdown",
   "metadata": {}
  },
  {
   "cell_type": "code",
   "execution_count": 11,
   "metadata": {},
   "outputs": [],
   "source": [
    "for x in previsoes.values:\n",
    "    mandante = x[0]\n",
    "    visitante = x[1] \n",
    "    array_previsao = complete(x)\n",
    "    resultados = [ y.predict(array_previsao)[0] for y in preditores.values() ]\n",
    "    contador = Counter(resultados)\n",
    "    resultado = contador.most_common(1)[0]\n",
    "    classe = resultado[0] \n",
    "    update_tabela(mandante, visitante, classe)"
   ]
  },
  {
   "cell_type": "code",
   "execution_count": 12,
   "metadata": {},
   "outputs": [
    {
     "output_type": "execute_result",
     "data": {
      "text/plain": [
       "               pontos  saldo\n",
       "time                        \n",
       "Atlético-mg        79     24\n",
       "Internacional      71     24\n",
       "São paulo          70     23\n",
       "Flamengo           67     17\n",
       "Grêmio             63     14\n",
       "Palmeiras          61     16\n",
       "Fluminense         60      8\n",
       "Bragantino         60     14\n",
       "Ceará              54      3\n",
       "Atlético-go        53     -2\n",
       "Santos             52      6\n",
       "Corinthians        51      1\n",
       "Athlético-pr       51      3\n",
       "Fortaleza          44     -5\n",
       "Vasco              42    -15\n",
       "Bahia              38    -18\n",
       "Sport              38    -20\n",
       "Goiás              31    -33\n",
       "Botafogo-rj        26    -31\n",
       "Coritiba           24    -26"
      ],
      "text/html": "<div>\n<style scoped>\n    .dataframe tbody tr th:only-of-type {\n        vertical-align: middle;\n    }\n\n    .dataframe tbody tr th {\n        vertical-align: top;\n    }\n\n    .dataframe thead th {\n        text-align: right;\n    }\n</style>\n<table border=\"1\" class=\"dataframe\">\n  <thead>\n    <tr style=\"text-align: right;\">\n      <th></th>\n      <th>pontos</th>\n      <th>saldo</th>\n    </tr>\n    <tr>\n      <th>time</th>\n      <th></th>\n      <th></th>\n    </tr>\n  </thead>\n  <tbody>\n    <tr>\n      <th>Atlético-mg</th>\n      <td>79</td>\n      <td>24</td>\n    </tr>\n    <tr>\n      <th>Internacional</th>\n      <td>71</td>\n      <td>24</td>\n    </tr>\n    <tr>\n      <th>São paulo</th>\n      <td>70</td>\n      <td>23</td>\n    </tr>\n    <tr>\n      <th>Flamengo</th>\n      <td>67</td>\n      <td>17</td>\n    </tr>\n    <tr>\n      <th>Grêmio</th>\n      <td>63</td>\n      <td>14</td>\n    </tr>\n    <tr>\n      <th>Palmeiras</th>\n      <td>61</td>\n      <td>16</td>\n    </tr>\n    <tr>\n      <th>Fluminense</th>\n      <td>60</td>\n      <td>8</td>\n    </tr>\n    <tr>\n      <th>Bragantino</th>\n      <td>60</td>\n      <td>14</td>\n    </tr>\n    <tr>\n      <th>Ceará</th>\n      <td>54</td>\n      <td>3</td>\n    </tr>\n    <tr>\n      <th>Atlético-go</th>\n      <td>53</td>\n      <td>-2</td>\n    </tr>\n    <tr>\n      <th>Santos</th>\n      <td>52</td>\n      <td>6</td>\n    </tr>\n    <tr>\n      <th>Corinthians</th>\n      <td>51</td>\n      <td>1</td>\n    </tr>\n    <tr>\n      <th>Athlético-pr</th>\n      <td>51</td>\n      <td>3</td>\n    </tr>\n    <tr>\n      <th>Fortaleza</th>\n      <td>44</td>\n      <td>-5</td>\n    </tr>\n    <tr>\n      <th>Vasco</th>\n      <td>42</td>\n      <td>-15</td>\n    </tr>\n    <tr>\n      <th>Bahia</th>\n      <td>38</td>\n      <td>-18</td>\n    </tr>\n    <tr>\n      <th>Sport</th>\n      <td>38</td>\n      <td>-20</td>\n    </tr>\n    <tr>\n      <th>Goiás</th>\n      <td>31</td>\n      <td>-33</td>\n    </tr>\n    <tr>\n      <th>Botafogo-rj</th>\n      <td>26</td>\n      <td>-31</td>\n    </tr>\n    <tr>\n      <th>Coritiba</th>\n      <td>24</td>\n      <td>-26</td>\n    </tr>\n  </tbody>\n</table>\n</div>"
     },
     "metadata": {},
     "execution_count": 12
    }
   ],
   "source": [
    "df_tabela.sort_values(by=\"pontos\", ascending=False)"
   ]
  }
 ],
 "metadata": {
  "kernelspec": {
   "display_name": "Python 3",
   "language": "python",
   "name": "python3"
  },
  "language_info": {
   "codemirror_mode": {
    "name": "ipython",
    "version": 3
   },
   "file_extension": ".py",
   "mimetype": "text/x-python",
   "name": "python",
   "nbconvert_exporter": "python",
   "pygments_lexer": "ipython3",
   "version": "3.8.5-final"
  }
 },
 "nbformat": 4,
 "nbformat_minor": 5
}